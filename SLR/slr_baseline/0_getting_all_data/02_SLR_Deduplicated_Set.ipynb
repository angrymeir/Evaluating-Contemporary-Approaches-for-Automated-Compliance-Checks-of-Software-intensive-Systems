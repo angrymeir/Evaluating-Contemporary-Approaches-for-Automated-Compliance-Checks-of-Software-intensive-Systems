{
 "cells": [
  {
   "cell_type": "code",
   "execution_count": 1,
   "id": "incorporate-matter",
   "metadata": {},
   "outputs": [],
   "source": [
    "import csv\n",
    "from utils import retrieve_paper_details, Paper"
   ]
  },
  {
   "cell_type": "code",
   "execution_count": 2,
   "id": "stable-magic",
   "metadata": {},
   "outputs": [],
   "source": [
    "manually_inspected_non_duplicates = [\n",
    "    (\"Continuous Compliance\", \"Cryptography for #MeToo\"),\n",
    "    (\"Continuous Compliance\", \"Towards a privacy debt\"),\n",
    "    (\"Cryptography for #MeToo\", \"Continuous Compliance\"),\n",
    "    (\"Towards a privacy debt\", \"Continuous Compliance\"),\n",
    "    (\"Lighting Control System Modeling\", \"Combining STPA with SysML modeling\")\n",
    "]"
   ]
  },
  {
   "cell_type": "code",
   "execution_count": 3,
   "id": "excellent-boutique",
   "metadata": {},
   "outputs": [],
   "source": [
    "def in_non_duplicates(dupl1, dupl2):\n",
    "    return (dupl1.titel,dupl2.titel) in manually_inspected_non_duplicates\n",
    "\n",
    "def retrieve_automatically_duplicated_papers(path):\n",
    "    real_duplicates = []\n",
    "    with open(path, 'r') as f:\n",
    "        duplicates = csv.DictReader(f, delimiter=\";\")\n",
    "        cur_duplicate = {}\n",
    "        for duplicate in duplicates:\n",
    "            if duplicate['titel'] == \"\":\n",
    "                if not in_non_duplicates(cur_duplicate['keep'], cur_duplicate['remove']):\n",
    "                    real_duplicates.append(cur_duplicate)\n",
    "                cur_duplicate = {}\n",
    "            elif cur_duplicate == {}:\n",
    "                cur_duplicate['keep'] = Paper(duplicate)\n",
    "            else:\n",
    "                cur_duplicate['remove'] = Paper(duplicate)\n",
    "    return real_duplicates\n",
    "\n",
    "def retrieve_already_existing_paper_base(path):\n",
    "    base = []\n",
    "    with open(path, 'r') as f:\n",
    "        base_papers = csv.DictReader(f, delimiter=\";\")\n",
    "        for paper in base_papers:\n",
    "            base.append(Paper(paper))\n",
    "    return base\n",
    "\n",
    "def in_existing_paper_base(paper):\n",
    "    if paper in existing_paper_base:\n",
    "        return True\n",
    "    return False\n",
    "\n",
    "def remove_duplicates(duplicates, papers):\n",
    "    keep = []\n",
    "    for p in papers:\n",
    "        if p not in [d['remove'] for d in duplicates]:\n",
    "            if not in_existing_paper_base(p):\n",
    "                keep.append(p)\n",
    "    return keep\n",
    "\n",
    "def save_remaining_papers(papers):\n",
    "    keys = papers[0].__dict__.keys()\n",
    "    with open('results/deduplicated_files.csv', 'w') as f:\n",
    "        csv_file = csv.DictWriter(f, keys, delimiter=\";\")\n",
    "        csv_file.writeheader()\n",
    "        for paper in papers:\n",
    "            csv_file.writerow(paper.__dict__)"
   ]
  },
  {
   "cell_type": "code",
   "execution_count": 4,
   "id": "proud-bangkok",
   "metadata": {},
   "outputs": [
    {
     "name": "stdout",
     "output_type": "stream",
     "text": [
      "Total number of papers: 885\n"
     ]
    }
   ],
   "source": [
    "resource_dir = \"resources/\"\n",
    "resource_files = ['acm.csv', 'IEEE.csv', 'ScienceDirect.csv', 'scopus.csv']\n",
    "\n",
    "papers = retrieve_paper_details(resource_dir, resource_files)\n",
    "print('Total number of papers:', len(papers))"
   ]
  },
  {
   "cell_type": "code",
   "execution_count": 5,
   "id": "precious-aberdeen",
   "metadata": {},
   "outputs": [
    {
     "name": "stdout",
     "output_type": "stream",
     "text": [
      "Number of valid duplicates: 111\n"
     ]
    }
   ],
   "source": [
    "results_dir = \"results/\"\n",
    "automatically_dup_papers = 'automatically_duplicated_papers.csv'\n",
    "valid_duplicates = retrieve_automatically_duplicated_papers(results_dir + automatically_dup_papers)\n",
    "print('Number of valid duplicates:', len(valid_duplicates))"
   ]
  },
  {
   "cell_type": "code",
   "execution_count": 6,
   "id": "developed-outreach",
   "metadata": {},
   "outputs": [],
   "source": [
    "resource_file = 'preexisting_paper_base.csv'\n",
    "existing_paper_base = retrieve_already_existing_paper_base(resource_dir + resource_file)"
   ]
  },
  {
   "cell_type": "code",
   "execution_count": 7,
   "id": "robust-parent",
   "metadata": {},
   "outputs": [
    {
     "name": "stdout",
     "output_type": "stream",
     "text": [
      "Remaining papers after deduplication: 736\n"
     ]
    }
   ],
   "source": [
    "keep = remove_duplicates(valid_duplicates, papers)\n",
    "print('Remaining papers after deduplication:', len(keep))"
   ]
  },
  {
   "cell_type": "code",
   "execution_count": 8,
   "id": "cathedral-picture",
   "metadata": {},
   "outputs": [],
   "source": [
    "save_remaining_papers(keep)"
   ]
  }
 ],
 "metadata": {
  "kernelspec": {
   "display_name": "Python 3",
   "language": "python",
   "name": "python3"
  },
  "language_info": {
   "codemirror_mode": {
    "name": "ipython",
    "version": 3
   },
   "file_extension": ".py",
   "mimetype": "text/x-python",
   "name": "python",
   "nbconvert_exporter": "python",
   "pygments_lexer": "ipython3",
   "version": "3.9.16"
  }
 },
 "nbformat": 4,
 "nbformat_minor": 5
}
